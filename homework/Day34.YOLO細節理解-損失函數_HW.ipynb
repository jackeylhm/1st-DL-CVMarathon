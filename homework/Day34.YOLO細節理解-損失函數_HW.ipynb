{
 "cells": [
  {
   "cell_type": "markdown",
   "metadata": {
    "colab_type": "text",
    "id": "Bnmm4e85ZBf2"
   },
   "source": [
    "## Day34.YOLO 細節理解 - 損失函數\n",
    "今天的課程，我們講述了\n",
    "* 損失函數是描述模型預測出來的結果和實際的差異的依據    \n",
    "* YOLO 損失函數的設計包含物件位置的定位與物件類別辨識    \n",
    "* YOLO損失函數透過超參數設定模型有不同的辨識能力    \n",
    "\n"
   ]
  },
  {
   "cell_type": "markdown",
   "metadata": {
    "colab_type": "text",
    "id": "exUoZwe5ZBf9"
   },
   "source": [
    "### 作業\n",
    "仔細觀察，bbox 寬高計算損失方式和bbox中心計算損失方式有哪邊不一樣嗎? 為什麼要有不同的設計?\n",
    "![title](loss function.png)\n",
    "\n"
   ]
  },
  {
   "cell_type": "code",
   "execution_count": 1,
   "metadata": {
    "colab": {
     "base_uri": "https://localhost:8080/",
     "height": 34
    },
    "colab_type": "code",
    "executionInfo": {
     "elapsed": 2077,
     "status": "ok",
     "timestamp": 1578021189565,
     "user": {
      "displayName": "Mora chen",
      "photoUrl": "https://lh3.googleusercontent.com/a-/AAuE7mB40f7sDArbZ5_DYq02nNcnLD0Ryaf7AhsASSQeLQ=s64",
      "userId": "03171203089166907199"
     },
     "user_tz": -480
    },
    "id": "8rmQogtPZBf_",
    "outputId": "3259b864-defa-4325-cf44-b0a269d6f1dc"
   },
   "outputs": [
    {
     "data": {
      "text/plain": [
       "'\\n你的答案\\n'"
      ]
     },
     "execution_count": 1,
     "metadata": {
      "tags": []
     },
     "output_type": "execute_result"
    }
   ],
   "source": [
    "'''\n",
    "Loss function: sum-squared error\n",
    "\n",
    "a. Reason: Easy to optimize b. Problem: (1) Does not perfectly align with our goal of maximize average precision. (2) In every image, many grid cells do not contain any object. This pushes the confidence scores of those cells towards 0, often overpowering the gradient from cells that do contain an object. c. Solution: increase loss from bounding box coordinate predictions and decrease the loss from confidence predictions from boxes that don't contain objects. We use two parameters\n",
    "λcoord=5\n",
    "and λnoobj = 0.5 d. Sum-squared error also equally weights errors in large boxes and small boxes\n",
    "\n",
    "Only one bounding box should be responsible for each obejct. We assign one predictor to be responsible for predicting an object based on which prediction has the highest current IOU with the ground truth.\n",
    "\n",
    "a. Loss from bound box coordinate (x, y) Note that the loss comes from one bounding box from one grid cell. Even if obj not in grid cell as ground truth.\n",
    "\n",
    "{λcoord∑S2i=0[(xi−x^i)2+(yi−yi^)2]0responsible bounding box other\n",
    "\n",
    "b. Loss from width w and height h. Note that the loss comes from one bounding box from one grid cell, even if the object is not in the grid cell as ground truth.\n",
    "\n",
    "{λcoord∑S2i=0[(wi−−√−w^i−−√)2+(hi−−√−h^i−−√)2]0responsible bounding box other\n",
    "\n",
    "c. Loss from the confidence in each bound box. Not that the loss comes from one bounding box from one grid cel, even if the object is not in the grid cell as ground truth.\n",
    "\n",
    "⎧⎩⎨⎪⎪⎪⎪∑S2i=0(Ci−C^i)2λnoobj∑S2i=0(Ci−C^i)20obj in grid cell and responsible bounding boxobj not in grid cell and responsible bounding boxother\n",
    "d. Loss from the class probability of grid cell, only when object is in the grid cell as ground truth.\n",
    "\n",
    "{∑S2i=0∑c∈classes(pi(c)−p^i(c))20obj in grid cellother\n",
    "\n",
    "Loss function only penalizes classification if obj is present in the grid cell. It also penalize bounding box coordinate if that box is responsible for the ground box (highest IOU)\n",
    "'''"
   ]
  }
 ],
 "metadata": {
  "colab": {
   "name": "Day34.YOLO 細節理解 - 損失函數_HW.ipynb",
   "provenance": []
  },
  "kernelspec": {
   "display_name": "Python 3",
   "language": "python",
   "name": "python3"
  },
  "language_info": {
   "codemirror_mode": {
    "name": "ipython",
    "version": 3
   },
   "file_extension": ".py",
   "mimetype": "text/x-python",
   "name": "python",
   "nbconvert_exporter": "python",
   "pygments_lexer": "ipython3",
   "version": "3.7.3"
  }
 },
 "nbformat": 4,
 "nbformat_minor": 1
}
